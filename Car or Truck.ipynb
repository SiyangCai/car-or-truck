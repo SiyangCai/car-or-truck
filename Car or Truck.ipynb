{
 "cells": [
  {
   "cell_type": "code",
   "execution_count": 1,
   "id": "19d2d8cb",
   "metadata": {},
   "outputs": [],
   "source": [
    "import os\n",
    "import cv2\n",
    "\n",
    "import random\n",
    "\n",
    "import matplotlib.pyplot as plt\n",
    "\n",
    "import pandas as pd\n",
    "import numpy as np\n",
    "\n",
    "import tensorflow as tf\n",
    "from tensorflow.keras.preprocessing import image\n",
    "\n",
    "from tensorflow import keras\n",
    "from tensorflow.keras import layers\n",
    "from tensorflow.keras.layers.experimental import preprocessing\n",
    "\n",
    "from tensorflow.keras.callbacks import EarlyStopping"
   ]
  },
  {
   "cell_type": "code",
   "execution_count": 2,
   "id": "95d582bf",
   "metadata": {},
   "outputs": [
    {
     "name": "stdout",
     "output_type": "stream",
     "text": [
      "Number of GPU: 1\n"
     ]
    }
   ],
   "source": [
    "physical_device = tf.config.experimental.list_physical_devices(\"GPU\")\n",
    "print(\"Number of GPU: {}\".format(len(physical_device)))"
   ]
  },
  {
   "cell_type": "code",
   "execution_count": 3,
   "id": "87225853",
   "metadata": {},
   "outputs": [],
   "source": [
    "tf.config.experimental.set_memory_growth(physical_device[0], True)"
   ]
  },
  {
   "cell_type": "markdown",
   "id": "15e28357",
   "metadata": {},
   "source": [
    "## Load image data using os and cv2"
   ]
  },
  {
   "cell_type": "code",
   "execution_count": 4,
   "id": "9400f5f0",
   "metadata": {},
   "outputs": [],
   "source": [
    "data_dir = [\"train\", \"valid\"]\n",
    "car_type = [\"Car\", \"Truck\"]\n",
    "size = 128"
   ]
  },
  {
   "cell_type": "code",
   "execution_count": null,
   "id": "4e755f8e",
   "metadata": {},
   "outputs": [],
   "source": [
    "# check one image as an example\n",
    "for category in car_type:\n",
    "    dir_path = os.path.join(data_dir, category)\n",
    "    for image in os.listdir(dir_path): # get all files in dir_path\n",
    "        image_array = cv2.imread(os.path.join(dir_path, image))\n",
    "        plt.imshow(image_array)\n",
    "        plt.show()\n",
    "        break\n",
    "    break"
   ]
  },
  {
   "cell_type": "code",
   "execution_count": null,
   "id": "6be69cf9",
   "metadata": {},
   "outputs": [],
   "source": [
    "training_data = []\n",
    "X = []\n",
    "y = []\n",
    "# define a function to load all images and convert to dataframe\n",
    "def create_training_data(directory, types, size_of_img):\n",
    "    for cate in types:\n",
    "        path = os.path.join(directory, cate)\n",
    "        type_num = types.index(cate)\n",
    "        \n",
    "        for img in os.listdir(path):\n",
    "            try:\n",
    "                img_array = cv2.imread(os.path.join(path, img))\n",
    "                img_array_resize = cv2.resize(img_array, (size_of_img, size_of_img))\n",
    "                training_data.append([img_array_resize, type_num])\n",
    "            except Exception as e:\n",
    "                pass\n",
    "            \n",
    "    random.shuffle(training_data)\n",
    "    \n",
    "    for img, label in training_data:\n",
    "        X.append(img)\n",
    "        y.append(label)"
   ]
  },
  {
   "cell_type": "code",
   "execution_count": null,
   "id": "c9e196b4",
   "metadata": {},
   "outputs": [],
   "source": [
    "create_training_data(data_dir, car_type, size)"
   ]
  },
  {
   "cell_type": "code",
   "execution_count": null,
   "id": "b8c91326",
   "metadata": {},
   "outputs": [],
   "source": [
    "print(len(training_data))"
   ]
  },
  {
   "cell_type": "code",
   "execution_count": null,
   "id": "578e66d4",
   "metadata": {},
   "outputs": [],
   "source": [
    "X = np.array(X)"
   ]
  },
  {
   "cell_type": "code",
   "execution_count": null,
   "id": "a671724a",
   "metadata": {},
   "outputs": [],
   "source": [
    "X.shape # correct shape\n",
    "\n",
    "# otherwise:\n",
    "# X.reshape(-1, size, size, 3)"
   ]
  },
  {
   "cell_type": "code",
   "execution_count": null,
   "id": "ab304418",
   "metadata": {},
   "outputs": [],
   "source": [
    "y.count(0)/len(y)"
   ]
  },
  {
   "cell_type": "markdown",
   "id": "00e36269",
   "metadata": {},
   "source": [
    "## Load data by tensorflow load_img"
   ]
  },
  {
   "cell_type": "code",
   "execution_count": 5,
   "id": "f6238d25",
   "metadata": {},
   "outputs": [],
   "source": [
    "training_data = []\n",
    "X = []\n",
    "y = []\n",
    "\n",
    "def create_training_tf(directory, types, size_of_img, image_dataset):\n",
    "    for d_dir in directory:\n",
    "        for cate in types:\n",
    "            type_num = types.index(cate)\n",
    "            path = os.path.join(d_dir, cate)\n",
    "        \n",
    "            for img in os.listdir(path):\n",
    "                try:\n",
    "                    img_loadin = image.load_img(os.path.join(path, img), color_mode= \"rgb\", target_size = (size_of_img, size_of_img))\n",
    "                    img_array = image.img_to_array(img_loadin)\n",
    "                    image_dataset.append([img_array, type_num])\n",
    "            \n",
    "                except Exception as e:\n",
    "                    pass\n",
    "            \n",
    "    random.shuffle(image_dataset)\n",
    "\n",
    "    for img, label in image_dataset:\n",
    "        X.append(img)\n",
    "        y.append(label)"
   ]
  },
  {
   "cell_type": "code",
   "execution_count": 6,
   "id": "8ecb86f1",
   "metadata": {},
   "outputs": [],
   "source": [
    "create_training_tf(data_dir, car_type, size, training_data)"
   ]
  },
  {
   "cell_type": "code",
   "execution_count": 7,
   "id": "76ff739b",
   "metadata": {},
   "outputs": [
    {
     "name": "stdout",
     "output_type": "stream",
     "text": [
      "10168\n"
     ]
    }
   ],
   "source": [
    "print(len(training_data))"
   ]
  },
  {
   "cell_type": "code",
   "execution_count": 8,
   "id": "42f6a257",
   "metadata": {},
   "outputs": [],
   "source": [
    "X = np.array(X)"
   ]
  },
  {
   "cell_type": "code",
   "execution_count": 9,
   "id": "76268efd",
   "metadata": {},
   "outputs": [
    {
     "data": {
      "text/plain": [
       "(10168, 128, 128, 3)"
      ]
     },
     "execution_count": 9,
     "metadata": {},
     "output_type": "execute_result"
    }
   ],
   "source": [
    "X.shape"
   ]
  },
  {
   "cell_type": "code",
   "execution_count": 10,
   "id": "0e855430",
   "metadata": {},
   "outputs": [
    {
     "data": {
      "text/plain": [
       "0.578579858379229"
      ]
     },
     "execution_count": 10,
     "metadata": {},
     "output_type": "execute_result"
    }
   ],
   "source": [
    "y.count(0)/len(y)"
   ]
  },
  {
   "cell_type": "code",
   "execution_count": 11,
   "id": "7fbb6e03",
   "metadata": {},
   "outputs": [],
   "source": [
    "y = np.array(y)"
   ]
  },
  {
   "cell_type": "code",
   "execution_count": 12,
   "id": "6d1fd6e3",
   "metadata": {},
   "outputs": [
    {
     "data": {
      "text/plain": [
       "(10168,)"
      ]
     },
     "execution_count": 12,
     "metadata": {},
     "output_type": "execute_result"
    }
   ],
   "source": [
    "y.shape"
   ]
  },
  {
   "cell_type": "markdown",
   "id": "0bba3b76",
   "metadata": {},
   "source": [
    "## Build Convolutional Neural Network "
   ]
  },
  {
   "cell_type": "code",
   "execution_count": 13,
   "id": "dfc42789",
   "metadata": {
    "scrolled": true
   },
   "outputs": [
    {
     "name": "stdout",
     "output_type": "stream",
     "text": [
      "Model: \"sequential\"\n",
      "_________________________________________________________________\n",
      " Layer (type)                Output Shape              Param #   \n",
      "=================================================================\n",
      " random_contrast (RandomCont  (None, 128, 128, 3)      0         \n",
      " rast)                                                           \n",
      "                                                                 \n",
      " random_flip (RandomFlip)    (None, 128, 128, 3)       0         \n",
      "                                                                 \n",
      " random_rotation (RandomRota  (None, 128, 128, 3)      0         \n",
      " tion)                                                           \n",
      "                                                                 \n",
      " batch_normalization (BatchN  (None, 128, 128, 3)      21        \n",
      " ormalization)                                                   \n",
      "                                                                 \n",
      " conv2d (Conv2D)             (None, 124, 124, 64)      4864      \n",
      "                                                                 \n",
      " activation (Activation)     (None, 124, 124, 64)      0         \n",
      "                                                                 \n",
      " max_pooling2d (MaxPooling2D  (None, 62, 62, 64)       0         \n",
      " )                                                               \n",
      "                                                                 \n",
      " batch_normalization_1 (Batc  (None, 62, 62, 64)       448       \n",
      " hNormalization)                                                 \n",
      "                                                                 \n",
      " conv2d_1 (Conv2D)           (None, 58, 58, 128)       204928    \n",
      "                                                                 \n",
      " activation_1 (Activation)   (None, 58, 58, 128)       0         \n",
      "                                                                 \n",
      " max_pooling2d_1 (MaxPooling  (None, 29, 29, 128)      0         \n",
      " 2D)                                                             \n",
      "                                                                 \n",
      " batch_normalization_2 (Batc  (None, 29, 29, 128)      896       \n",
      " hNormalization)                                                 \n",
      "                                                                 \n",
      " conv2d_2 (Conv2D)           (None, 25, 25, 256)       819456    \n",
      "                                                                 \n",
      " activation_2 (Activation)   (None, 25, 25, 256)       0         \n",
      "                                                                 \n",
      " max_pooling2d_2 (MaxPooling  (None, 12, 12, 256)      0         \n",
      " 2D)                                                             \n",
      "                                                                 \n",
      " flatten (Flatten)           (None, 36864)             0         \n",
      "                                                                 \n",
      " dense (Dense)               (None, 1)                 36865     \n",
      "                                                                 \n",
      "=================================================================\n",
      "Total params: 1,067,478\n",
      "Trainable params: 1,066,503\n",
      "Non-trainable params: 975\n",
      "_________________________________________________________________\n"
     ]
    }
   ],
   "source": [
    "model = keras.Sequential()\n",
    "\n",
    "model.add(layers.InputLayer(input_shape= [128, 128, 3]))\n",
    "\n",
    "#Data Augmentation\n",
    "model.add(preprocessing.RandomContrast(factor = 0.5))\n",
    "model.add(preprocessing.RandomFlip(\"horizontal_and_vertical\"))\n",
    "model.add(preprocessing.RandomRotation(factor = 0.2))\n",
    "\n",
    "#First CNN\n",
    "model.add(layers.BatchNormalization(renorm = True))\n",
    "model.add(layers.Conv2D(filters = 64, kernel_size = 5, padding= \"valid\"))\n",
    "model.add(layers.Activation(\"relu\"))\n",
    "model.add(layers.MaxPool2D(pool_size= (2,2)))\n",
    "\n",
    "#Second CNN\n",
    "model.add(layers.BatchNormalization(renorm = True))\n",
    "model.add(layers.Conv2D(filters = 128, kernel_size = 5, padding= \"valid\"))\n",
    "model.add(layers.Activation(\"relu\"))\n",
    "model.add(layers.MaxPool2D(pool_size= (2,2)))\n",
    "\n",
    "#Third CNN\n",
    "model.add(layers.BatchNormalization(renorm = True))\n",
    "model.add(layers.Conv2D(filters = 256, kernel_size = 5, padding= \"valid\"))\n",
    "model.add(layers.Activation(\"relu\"))\n",
    "model.add(layers.MaxPool2D(pool_size= (2,2)))\n",
    "\n",
    "model.add(layers.Flatten())\n",
    "model.add(layers.Dense(units = 1, activation= \"sigmoid\"))\n",
    "\n",
    "model.summary()"
   ]
  },
  {
   "cell_type": "code",
   "execution_count": 14,
   "id": "a6b0a529",
   "metadata": {},
   "outputs": [],
   "source": [
    "optimizer = keras.optimizers.Adam()"
   ]
  },
  {
   "cell_type": "code",
   "execution_count": 15,
   "id": "9d80d46f",
   "metadata": {},
   "outputs": [],
   "source": [
    "model.compile(loss = \"binary_crossentropy\", optimizer = optimizer, metrics = \"binary_accuracy\")"
   ]
  },
  {
   "cell_type": "code",
   "execution_count": null,
   "id": "730baeea",
   "metadata": {},
   "outputs": [],
   "source": [
    "#early_stopping = EarlyStopping(monitor = \"val_loss\", min_delta = 0.01, patience = 5)"
   ]
  },
  {
   "cell_type": "code",
   "execution_count": 16,
   "id": "2847efb0",
   "metadata": {},
   "outputs": [
    {
     "name": "stdout",
     "output_type": "stream",
     "text": [
      "Epoch 1/80\n",
      "255/255 [==============================] - 12s 32ms/step - loss: 2.9645 - binary_accuracy: 0.5434 - val_loss: 2.4052 - val_binary_accuracy: 0.5659\n",
      "Epoch 2/80\n",
      "255/255 [==============================] - 7s 29ms/step - loss: 0.8848 - binary_accuracy: 0.5632 - val_loss: 0.9874 - val_binary_accuracy: 0.5860\n",
      "Epoch 3/80\n",
      "255/255 [==============================] - 7s 29ms/step - loss: 0.7402 - binary_accuracy: 0.5901 - val_loss: 0.6589 - val_binary_accuracy: 0.6239\n",
      "Epoch 4/80\n",
      "255/255 [==============================] - 7s 29ms/step - loss: 0.6779 - binary_accuracy: 0.6044 - val_loss: 0.6550 - val_binary_accuracy: 0.6200\n",
      "Epoch 5/80\n",
      "255/255 [==============================] - 7s 29ms/step - loss: 0.6598 - binary_accuracy: 0.6126 - val_loss: 0.6402 - val_binary_accuracy: 0.6460\n",
      "Epoch 6/80\n",
      "255/255 [==============================] - 7s 29ms/step - loss: 0.6531 - binary_accuracy: 0.6204 - val_loss: 0.6205 - val_binary_accuracy: 0.6500\n",
      "Epoch 7/80\n",
      "255/255 [==============================] - 7s 29ms/step - loss: 0.6409 - binary_accuracy: 0.6374 - val_loss: 0.6666 - val_binary_accuracy: 0.6480\n",
      "Epoch 8/80\n",
      "255/255 [==============================] - 7s 29ms/step - loss: 0.6332 - binary_accuracy: 0.6501 - val_loss: 0.6217 - val_binary_accuracy: 0.6573\n",
      "Epoch 9/80\n",
      "255/255 [==============================] - 7s 29ms/step - loss: 0.6402 - binary_accuracy: 0.6436 - val_loss: 0.6308 - val_binary_accuracy: 0.6544\n",
      "Epoch 10/80\n",
      "255/255 [==============================] - 7s 29ms/step - loss: 0.6265 - binary_accuracy: 0.6542 - val_loss: 0.6048 - val_binary_accuracy: 0.6745\n",
      "Epoch 11/80\n",
      "255/255 [==============================] - 7s 29ms/step - loss: 0.6209 - binary_accuracy: 0.6586 - val_loss: 0.6075 - val_binary_accuracy: 0.6770\n",
      "Epoch 12/80\n",
      "255/255 [==============================] - 7s 29ms/step - loss: 0.6191 - binary_accuracy: 0.6523 - val_loss: 0.5941 - val_binary_accuracy: 0.6893\n",
      "Epoch 13/80\n",
      "255/255 [==============================] - 7s 29ms/step - loss: 0.6203 - binary_accuracy: 0.6636 - val_loss: 0.6223 - val_binary_accuracy: 0.6573\n",
      "Epoch 14/80\n",
      "255/255 [==============================] - 7s 29ms/step - loss: 0.6048 - binary_accuracy: 0.6687 - val_loss: 0.7434 - val_binary_accuracy: 0.5816\n",
      "Epoch 15/80\n",
      "255/255 [==============================] - 7s 29ms/step - loss: 0.6042 - binary_accuracy: 0.6785 - val_loss: 0.5925 - val_binary_accuracy: 0.6790\n",
      "Epoch 16/80\n",
      "255/255 [==============================] - 7s 29ms/step - loss: 0.5934 - binary_accuracy: 0.6922 - val_loss: 0.5896 - val_binary_accuracy: 0.6819\n",
      "Epoch 17/80\n",
      "255/255 [==============================] - 7s 29ms/step - loss: 0.5914 - binary_accuracy: 0.6875 - val_loss: 0.6082 - val_binary_accuracy: 0.6637\n",
      "Epoch 18/80\n",
      "255/255 [==============================] - 7s 29ms/step - loss: 0.5853 - binary_accuracy: 0.7024 - val_loss: 0.6504 - val_binary_accuracy: 0.6426\n",
      "Epoch 19/80\n",
      "255/255 [==============================] - 7s 29ms/step - loss: 0.5645 - binary_accuracy: 0.7095 - val_loss: 0.5969 - val_binary_accuracy: 0.6947\n",
      "Epoch 20/80\n",
      "255/255 [==============================] - 7s 29ms/step - loss: 0.5669 - binary_accuracy: 0.7035 - val_loss: 0.5534 - val_binary_accuracy: 0.7232\n",
      "Epoch 21/80\n",
      "255/255 [==============================] - 7s 29ms/step - loss: 0.5444 - binary_accuracy: 0.7238 - val_loss: 0.5477 - val_binary_accuracy: 0.7070\n",
      "Epoch 22/80\n",
      "255/255 [==============================] - 7s 29ms/step - loss: 0.5473 - binary_accuracy: 0.7266 - val_loss: 0.5501 - val_binary_accuracy: 0.7139\n",
      "Epoch 23/80\n",
      "255/255 [==============================] - 7s 29ms/step - loss: 0.5387 - binary_accuracy: 0.7305 - val_loss: 0.5123 - val_binary_accuracy: 0.7547\n",
      "Epoch 24/80\n",
      "255/255 [==============================] - 7s 29ms/step - loss: 0.5193 - binary_accuracy: 0.7432 - val_loss: 0.4989 - val_binary_accuracy: 0.7547\n",
      "Epoch 25/80\n",
      "255/255 [==============================] - 7s 29ms/step - loss: 0.5046 - binary_accuracy: 0.7562 - val_loss: 0.4867 - val_binary_accuracy: 0.7591\n",
      "Epoch 26/80\n",
      "255/255 [==============================] - 7s 29ms/step - loss: 0.4880 - binary_accuracy: 0.7640 - val_loss: 0.4730 - val_binary_accuracy: 0.7842\n",
      "Epoch 27/80\n",
      "255/255 [==============================] - 7s 29ms/step - loss: 0.4906 - binary_accuracy: 0.7689 - val_loss: 0.4560 - val_binary_accuracy: 0.7763\n",
      "Epoch 28/80\n",
      "255/255 [==============================] - 7s 29ms/step - loss: 0.4720 - binary_accuracy: 0.7712 - val_loss: 0.4808 - val_binary_accuracy: 0.7576\n",
      "Epoch 29/80\n",
      "255/255 [==============================] - 7s 29ms/step - loss: 0.4694 - binary_accuracy: 0.7748 - val_loss: 0.4419 - val_binary_accuracy: 0.7906\n",
      "Epoch 30/80\n",
      "255/255 [==============================] - 7s 29ms/step - loss: 0.4691 - binary_accuracy: 0.7797 - val_loss: 0.5070 - val_binary_accuracy: 0.7734\n",
      "Epoch 31/80\n",
      "255/255 [==============================] - 7s 28ms/step - loss: 0.4540 - binary_accuracy: 0.7901 - val_loss: 0.4259 - val_binary_accuracy: 0.7984\n",
      "Epoch 32/80\n",
      "255/255 [==============================] - 7s 29ms/step - loss: 0.4308 - binary_accuracy: 0.8003 - val_loss: 0.4238 - val_binary_accuracy: 0.8137\n",
      "Epoch 33/80\n",
      "255/255 [==============================] - 7s 29ms/step - loss: 0.4288 - binary_accuracy: 0.8010 - val_loss: 0.3871 - val_binary_accuracy: 0.8319\n",
      "Epoch 34/80\n",
      "255/255 [==============================] - 7s 29ms/step - loss: 0.4149 - binary_accuracy: 0.8104 - val_loss: 0.3757 - val_binary_accuracy: 0.8299\n",
      "Epoch 35/80\n",
      "255/255 [==============================] - 7s 29ms/step - loss: 0.4106 - binary_accuracy: 0.8071 - val_loss: 0.3872 - val_binary_accuracy: 0.8245\n",
      "Epoch 36/80\n",
      "255/255 [==============================] - 7s 28ms/step - loss: 0.4142 - binary_accuracy: 0.8062 - val_loss: 0.3670 - val_binary_accuracy: 0.8476\n",
      "Epoch 37/80\n",
      "255/255 [==============================] - 7s 29ms/step - loss: 0.3959 - binary_accuracy: 0.8232 - val_loss: 0.4026 - val_binary_accuracy: 0.8206\n",
      "Epoch 38/80\n",
      "255/255 [==============================] - 7s 29ms/step - loss: 0.3916 - binary_accuracy: 0.8220 - val_loss: 0.3611 - val_binary_accuracy: 0.8368\n",
      "Epoch 39/80\n",
      "255/255 [==============================] - 7s 29ms/step - loss: 0.3955 - binary_accuracy: 0.8228 - val_loss: 0.3790 - val_binary_accuracy: 0.8481\n",
      "Epoch 40/80\n",
      "255/255 [==============================] - 7s 29ms/step - loss: 0.3931 - binary_accuracy: 0.8173 - val_loss: 0.3693 - val_binary_accuracy: 0.8299\n",
      "Epoch 41/80\n",
      "255/255 [==============================] - 8s 30ms/step - loss: 0.3873 - binary_accuracy: 0.8253 - val_loss: 0.3701 - val_binary_accuracy: 0.8284\n",
      "Epoch 42/80\n",
      "255/255 [==============================] - 8s 30ms/step - loss: 0.3974 - binary_accuracy: 0.8145 - val_loss: 0.3525 - val_binary_accuracy: 0.8451\n",
      "Epoch 43/80\n",
      "255/255 [==============================] - 8s 30ms/step - loss: 0.3810 - binary_accuracy: 0.8289 - val_loss: 0.3339 - val_binary_accuracy: 0.8555\n",
      "Epoch 44/80\n",
      "255/255 [==============================] - 8s 30ms/step - loss: 0.3718 - binary_accuracy: 0.8334 - val_loss: 0.3325 - val_binary_accuracy: 0.8545\n",
      "Epoch 45/80\n",
      "255/255 [==============================] - 8s 30ms/step - loss: 0.3765 - binary_accuracy: 0.8290 - val_loss: 0.3212 - val_binary_accuracy: 0.8668\n",
      "Epoch 46/80\n",
      "255/255 [==============================] - 8s 30ms/step - loss: 0.3673 - binary_accuracy: 0.8413 - val_loss: 0.3656 - val_binary_accuracy: 0.8515\n",
      "Epoch 47/80\n",
      "255/255 [==============================] - 8s 30ms/step - loss: 0.3696 - binary_accuracy: 0.8367 - val_loss: 0.3530 - val_binary_accuracy: 0.8382\n",
      "Epoch 48/80\n",
      "255/255 [==============================] - 8s 30ms/step - loss: 0.3517 - binary_accuracy: 0.8445 - val_loss: 0.3411 - val_binary_accuracy: 0.8486\n",
      "Epoch 49/80\n",
      "255/255 [==============================] - 8s 30ms/step - loss: 0.3619 - binary_accuracy: 0.8405 - val_loss: 0.3551 - val_binary_accuracy: 0.8505\n",
      "Epoch 50/80\n",
      "255/255 [==============================] - 8s 29ms/step - loss: 0.3728 - binary_accuracy: 0.8340 - val_loss: 0.3212 - val_binary_accuracy: 0.8559\n",
      "Epoch 51/80\n",
      "255/255 [==============================] - 7s 29ms/step - loss: 0.3485 - binary_accuracy: 0.8473 - val_loss: 0.3057 - val_binary_accuracy: 0.8697\n",
      "Epoch 52/80\n",
      "255/255 [==============================] - 7s 29ms/step - loss: 0.3343 - binary_accuracy: 0.8517 - val_loss: 0.3271 - val_binary_accuracy: 0.8584\n"
     ]
    },
    {
     "name": "stdout",
     "output_type": "stream",
     "text": [
      "Epoch 53/80\n",
      "255/255 [==============================] - 7s 29ms/step - loss: 0.3452 - binary_accuracy: 0.8484 - val_loss: 0.3007 - val_binary_accuracy: 0.8653\n",
      "Epoch 54/80\n",
      "255/255 [==============================] - 7s 29ms/step - loss: 0.3382 - binary_accuracy: 0.8578 - val_loss: 0.3389 - val_binary_accuracy: 0.8559\n",
      "Epoch 55/80\n",
      "255/255 [==============================] - 7s 29ms/step - loss: 0.3359 - binary_accuracy: 0.8510 - val_loss: 0.3161 - val_binary_accuracy: 0.8623\n",
      "Epoch 56/80\n",
      "255/255 [==============================] - 7s 29ms/step - loss: 0.3480 - binary_accuracy: 0.8485 - val_loss: 0.3258 - val_binary_accuracy: 0.8559\n",
      "Epoch 57/80\n",
      "255/255 [==============================] - 7s 29ms/step - loss: 0.3500 - binary_accuracy: 0.8504 - val_loss: 0.3541 - val_binary_accuracy: 0.8427\n",
      "Epoch 58/80\n",
      "255/255 [==============================] - 7s 29ms/step - loss: 0.3421 - binary_accuracy: 0.8558 - val_loss: 0.3177 - val_binary_accuracy: 0.8589\n",
      "Epoch 59/80\n",
      "255/255 [==============================] - 7s 29ms/step - loss: 0.3945 - binary_accuracy: 0.8322 - val_loss: 0.3225 - val_binary_accuracy: 0.8599\n",
      "Epoch 60/80\n",
      "255/255 [==============================] - 7s 29ms/step - loss: 0.3320 - binary_accuracy: 0.8606 - val_loss: 0.3082 - val_binary_accuracy: 0.8677\n",
      "Epoch 61/80\n",
      "255/255 [==============================] - 7s 29ms/step - loss: 0.3326 - binary_accuracy: 0.8575 - val_loss: 0.3400 - val_binary_accuracy: 0.8500\n",
      "Epoch 62/80\n",
      "255/255 [==============================] - 7s 29ms/step - loss: 0.3196 - binary_accuracy: 0.8629 - val_loss: 0.3084 - val_binary_accuracy: 0.8687\n",
      "Epoch 63/80\n",
      "255/255 [==============================] - 7s 29ms/step - loss: 0.3328 - binary_accuracy: 0.8551 - val_loss: 0.3039 - val_binary_accuracy: 0.8692\n",
      "Epoch 64/80\n",
      "255/255 [==============================] - 7s 29ms/step - loss: 0.3392 - binary_accuracy: 0.8571 - val_loss: 0.3195 - val_binary_accuracy: 0.8668\n",
      "Epoch 65/80\n",
      "255/255 [==============================] - 7s 29ms/step - loss: 0.4394 - binary_accuracy: 0.8373 - val_loss: 0.3317 - val_binary_accuracy: 0.8515\n",
      "Epoch 66/80\n",
      "255/255 [==============================] - 7s 29ms/step - loss: 0.3229 - binary_accuracy: 0.8606 - val_loss: 0.3492 - val_binary_accuracy: 0.8540\n",
      "Epoch 67/80\n",
      "255/255 [==============================] - 7s 29ms/step - loss: 0.3361 - binary_accuracy: 0.8565 - val_loss: 0.2914 - val_binary_accuracy: 0.8771\n",
      "Epoch 68/80\n",
      "255/255 [==============================] - 7s 29ms/step - loss: 0.3264 - binary_accuracy: 0.8598 - val_loss: 0.3216 - val_binary_accuracy: 0.8653\n",
      "Epoch 69/80\n",
      "255/255 [==============================] - 7s 29ms/step - loss: 0.3262 - binary_accuracy: 0.8603 - val_loss: 0.2830 - val_binary_accuracy: 0.8840\n",
      "Epoch 70/80\n",
      "255/255 [==============================] - 7s 28ms/step - loss: 0.2921 - binary_accuracy: 0.8742 - val_loss: 0.3090 - val_binary_accuracy: 0.8702\n",
      "Epoch 71/80\n",
      "255/255 [==============================] - 7s 29ms/step - loss: 0.3541 - binary_accuracy: 0.8456 - val_loss: 0.3628 - val_binary_accuracy: 0.8520\n",
      "Epoch 72/80\n",
      "255/255 [==============================] - 7s 28ms/step - loss: 0.3229 - binary_accuracy: 0.8592 - val_loss: 0.2849 - val_binary_accuracy: 0.8791\n",
      "Epoch 73/80\n",
      "255/255 [==============================] - 7s 28ms/step - loss: 0.4034 - binary_accuracy: 0.8335 - val_loss: 0.4451 - val_binary_accuracy: 0.8289\n",
      "Epoch 74/80\n",
      "255/255 [==============================] - 7s 28ms/step - loss: 0.3434 - binary_accuracy: 0.8558 - val_loss: 0.2712 - val_binary_accuracy: 0.8854\n",
      "Epoch 75/80\n",
      "255/255 [==============================] - 7s 28ms/step - loss: 0.3347 - binary_accuracy: 0.8586 - val_loss: 0.3783 - val_binary_accuracy: 0.8412\n",
      "Epoch 76/80\n",
      "255/255 [==============================] - 7s 28ms/step - loss: 0.3239 - binary_accuracy: 0.8600 - val_loss: 0.3111 - val_binary_accuracy: 0.8741\n",
      "Epoch 77/80\n",
      "255/255 [==============================] - 7s 28ms/step - loss: 0.3018 - binary_accuracy: 0.8708 - val_loss: 0.2886 - val_binary_accuracy: 0.8795\n",
      "Epoch 78/80\n",
      "255/255 [==============================] - 7s 28ms/step - loss: 0.3244 - binary_accuracy: 0.8611 - val_loss: 0.4205 - val_binary_accuracy: 0.8289\n",
      "Epoch 79/80\n",
      "255/255 [==============================] - 7s 28ms/step - loss: 0.3303 - binary_accuracy: 0.8611 - val_loss: 0.2708 - val_binary_accuracy: 0.8884\n",
      "Epoch 80/80\n",
      "255/255 [==============================] - 7s 28ms/step - loss: 0.3160 - binary_accuracy: 0.8654 - val_loss: 0.2868 - val_binary_accuracy: 0.8746\n"
     ]
    }
   ],
   "source": [
    "history = model.fit(X, y, validation_split = 0.2, batch_size= 32, epochs= 80)"
   ]
  },
  {
   "cell_type": "code",
   "execution_count": 17,
   "id": "85d15f86",
   "metadata": {},
   "outputs": [
    {
     "data": {
      "text/html": [
       "<div>\n",
       "<style scoped>\n",
       "    .dataframe tbody tr th:only-of-type {\n",
       "        vertical-align: middle;\n",
       "    }\n",
       "\n",
       "    .dataframe tbody tr th {\n",
       "        vertical-align: top;\n",
       "    }\n",
       "\n",
       "    .dataframe thead th {\n",
       "        text-align: right;\n",
       "    }\n",
       "</style>\n",
       "<table border=\"1\" class=\"dataframe\">\n",
       "  <thead>\n",
       "    <tr style=\"text-align: right;\">\n",
       "      <th></th>\n",
       "      <th>loss</th>\n",
       "      <th>binary_accuracy</th>\n",
       "      <th>val_loss</th>\n",
       "      <th>val_binary_accuracy</th>\n",
       "    </tr>\n",
       "  </thead>\n",
       "  <tbody>\n",
       "    <tr>\n",
       "      <th>0</th>\n",
       "      <td>2.964489</td>\n",
       "      <td>0.543398</td>\n",
       "      <td>2.405162</td>\n",
       "      <td>0.565880</td>\n",
       "    </tr>\n",
       "    <tr>\n",
       "      <th>1</th>\n",
       "      <td>0.884806</td>\n",
       "      <td>0.563192</td>\n",
       "      <td>0.987438</td>\n",
       "      <td>0.586037</td>\n",
       "    </tr>\n",
       "    <tr>\n",
       "      <th>2</th>\n",
       "      <td>0.740194</td>\n",
       "      <td>0.590116</td>\n",
       "      <td>0.658907</td>\n",
       "      <td>0.623894</td>\n",
       "    </tr>\n",
       "    <tr>\n",
       "      <th>3</th>\n",
       "      <td>0.677901</td>\n",
       "      <td>0.604377</td>\n",
       "      <td>0.655034</td>\n",
       "      <td>0.619961</td>\n",
       "    </tr>\n",
       "    <tr>\n",
       "      <th>4</th>\n",
       "      <td>0.659841</td>\n",
       "      <td>0.612614</td>\n",
       "      <td>0.640231</td>\n",
       "      <td>0.646018</td>\n",
       "    </tr>\n",
       "    <tr>\n",
       "      <th>...</th>\n",
       "      <td>...</td>\n",
       "      <td>...</td>\n",
       "      <td>...</td>\n",
       "      <td>...</td>\n",
       "    </tr>\n",
       "    <tr>\n",
       "      <th>75</th>\n",
       "      <td>0.323875</td>\n",
       "      <td>0.859971</td>\n",
       "      <td>0.311060</td>\n",
       "      <td>0.874140</td>\n",
       "    </tr>\n",
       "    <tr>\n",
       "      <th>76</th>\n",
       "      <td>0.301766</td>\n",
       "      <td>0.870789</td>\n",
       "      <td>0.288625</td>\n",
       "      <td>0.879548</td>\n",
       "    </tr>\n",
       "    <tr>\n",
       "      <th>77</th>\n",
       "      <td>0.324383</td>\n",
       "      <td>0.861077</td>\n",
       "      <td>0.420468</td>\n",
       "      <td>0.828909</td>\n",
       "    </tr>\n",
       "    <tr>\n",
       "      <th>78</th>\n",
       "      <td>0.330317</td>\n",
       "      <td>0.861077</td>\n",
       "      <td>0.270819</td>\n",
       "      <td>0.888397</td>\n",
       "    </tr>\n",
       "    <tr>\n",
       "      <th>79</th>\n",
       "      <td>0.316018</td>\n",
       "      <td>0.865380</td>\n",
       "      <td>0.286793</td>\n",
       "      <td>0.874631</td>\n",
       "    </tr>\n",
       "  </tbody>\n",
       "</table>\n",
       "<p>80 rows × 4 columns</p>\n",
       "</div>"
      ],
      "text/plain": [
       "        loss  binary_accuracy  val_loss  val_binary_accuracy\n",
       "0   2.964489         0.543398  2.405162             0.565880\n",
       "1   0.884806         0.563192  0.987438             0.586037\n",
       "2   0.740194         0.590116  0.658907             0.623894\n",
       "3   0.677901         0.604377  0.655034             0.619961\n",
       "4   0.659841         0.612614  0.640231             0.646018\n",
       "..       ...              ...       ...                  ...\n",
       "75  0.323875         0.859971  0.311060             0.874140\n",
       "76  0.301766         0.870789  0.288625             0.879548\n",
       "77  0.324383         0.861077  0.420468             0.828909\n",
       "78  0.330317         0.861077  0.270819             0.888397\n",
       "79  0.316018         0.865380  0.286793             0.874631\n",
       "\n",
       "[80 rows x 4 columns]"
      ]
     },
     "execution_count": 17,
     "metadata": {},
     "output_type": "execute_result"
    }
   ],
   "source": [
    "history_df = pd.DataFrame(history.history)\n",
    "history_df"
   ]
  },
  {
   "cell_type": "code",
   "execution_count": 18,
   "id": "7f32e846",
   "metadata": {},
   "outputs": [],
   "source": [
    "epochs = range(1, len(history_df.loss) + 1)"
   ]
  },
  {
   "cell_type": "code",
   "execution_count": 19,
   "id": "4b6a3433",
   "metadata": {},
   "outputs": [],
   "source": [
    "plt.style.use(\"seaborn-whitegrid\")"
   ]
  },
  {
   "cell_type": "code",
   "execution_count": 20,
   "id": "e7e932ff",
   "metadata": {},
   "outputs": [
    {
     "data": {
      "image/png": "[encoded data removed]",
      "text/plain": [
       "<Figure size 720x720 with 1 Axes>"
      ]
     },
     "metadata": {},
     "output_type": "display_data"
    },
    {
     "data": {
      "text/plain": [
       "<Figure size 432x288 with 0 Axes>"
      ]
     },
     "metadata": {},
     "output_type": "display_data"
    }
   ],
   "source": [
    "plt.figure(figsize= (10,10))\n",
    "\n",
    "plt.plot(epochs, history_df.loss, \"b\", label = \"training loss\")\n",
    "plt.plot(epochs, history_df.val_loss, \"r\", label = \"validation loss\")\n",
    "\n",
    "plt.xlabel(\"Epochs\")\n",
    "plt.ylabel(\"Loss\")\n",
    "plt.legend()\n",
    "plt.show()\n",
    "plt.savefig(\"loss\")"
   ]
  },
  {
   "cell_type": "code",
   "execution_count": 21,
   "id": "0f9a6958",
   "metadata": {},
   "outputs": [
    {
     "data": {
      "image/png": "[encoded data removed]",
      "text/plain": [
       "<Figure size 720x720 with 1 Axes>"
      ]
     },
     "metadata": {},
     "output_type": "display_data"
    },
    {
     "data": {
      "text/plain": [
       "<Figure size 432x288 with 0 Axes>"
      ]
     },
     "metadata": {},
     "output_type": "display_data"
    }
   ],
   "source": [
    "plt.figure(figsize= (10,10))\n",
    "\n",
    "plt.plot(epochs, history_df.binary_accuracy, \"b\", label = \"training accuracy\")\n",
    "plt.plot(epochs, history_df.val_binary_accuracy, \"r\", label = \"validation accuracy\")\n",
    "\n",
    "plt.xlabel(\"Epochs\")\n",
    "plt.ylabel(\"Binary accuracy\")\n",
    "plt.legend()\n",
    "plt.show()\n",
    "plt.savefig(\"accuracy\")"
   ]
  },
  {
   "cell_type": "code",
   "execution_count": 22,
   "id": "c072a623",
   "metadata": {},
   "outputs": [
    {
     "name": "stdout",
     "output_type": "stream",
     "text": [
      "Best validation loss: 0.2708, \n",
      " Best validation accuracy: 0.8884\n"
     ]
    }
   ],
   "source": [
    "print(\"Best validation loss: {:0.4f}, \\n Best validation accuracy: {:0.4f}\".format(history_df.val_loss.min(), history_df.val_binary_accuracy.max()))"
   ]
  },
  {
   "cell_type": "code",
   "execution_count": 23,
   "id": "29294504",
   "metadata": {},
   "outputs": [
    {
     "data": {
      "text/plain": [
       "True"
      ]
     },
     "execution_count": 23,
     "metadata": {},
     "output_type": "execute_result"
    }
   ],
   "source": [
    "history_df.val_loss.idxmin() == history_df.val_binary_accuracy.idxmax()"
   ]
  },
  {
   "cell_type": "code",
   "execution_count": 24,
   "id": "4283631d",
   "metadata": {},
   "outputs": [
    {
     "data": {
      "text/plain": [
       "78"
      ]
     },
     "execution_count": 24,
     "metadata": {},
     "output_type": "execute_result"
    }
   ],
   "source": [
    "history_df.val_binary_accuracy.idxmax()"
   ]
  },
  {
   "cell_type": "code",
   "execution_count": 25,
   "id": "38dca68f",
   "metadata": {},
   "outputs": [
    {
     "name": "stdout",
     "output_type": "stream",
     "text": [
      "INFO:tensorflow:Assets written to: COT-64x3CNN.model\\assets\n"
     ]
    }
   ],
   "source": [
    "model.save(\"COT-64x3CNN.model\")"
   ]
  },
  {
   "cell_type": "code",
   "execution_count": null,
   "id": "a9da5e46",
   "metadata": {},
   "outputs": [],
   "source": []
  }
 ],
 "metadata": {
  "kernelspec": {
   "display_name": "Python 3 (ipykernel)",
   "language": "python",
   "name": "python3"
  },
  "language_info": {
   "codemirror_mode": {
    "name": "ipython",
    "version": 3
   },
   "file_extension": ".py",
   "mimetype": "text/x-python",
   "name": "python",
   "nbconvert_exporter": "python",
   "pygments_lexer": "ipython3",
   "version": "3.9.7"
  }
 },
 "nbformat": 4,
 "nbformat_minor": 5
}
